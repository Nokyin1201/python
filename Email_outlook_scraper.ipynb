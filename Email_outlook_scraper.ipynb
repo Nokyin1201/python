{
 "cells": [
  {
   "cell_type": "code",
   "execution_count": 1,
   "id": "09d6a34e",
   "metadata": {},
   "outputs": [],
   "source": [
    "import re\n",
    "import win32com.client \n",
    "import os\n",
    "import sys\n",
    "import pandas as pd\n",
    "import csv\n",
    "import requests \n",
    "from pandas.core.frame import DataFrame\n",
    "from bs4 import BeautifulSoup\n",
    "from datetime import datetime, timedelta\n",
    "\n",
    "def email_scrap(title):\n",
    "    outlook = win32com.client.Dispatch(\"Outlook.Application\").GetNamespace(\"MAPI\")\n",
    "    inbox = outlook.GetDefaultFolder(6).Folders[\"Folder_A\"]\n",
    "    today = datetime.today()\n",
    "    received_today = inbox.Items.Restrict(\"[ReceivedTime] >= '\"+ today.strftime('%d/%m/%Y')+\"'\")\n",
    "    email_sub = title\n",
    "    for email in received_today:\n",
    "        if email.Subject == email_sub:\n",
    "            print(email.Subject, email.ReceivedTime, email.SenderEmailAddress)\n",
    "            body_content = email.HTMLBody\n",
    "            bs = BeautifulSoup(body_content, features=\"html.parser\")\n",
    "            tables = bs.find_all(\"table\")\n",
    "            table = tables[0] \n",
    "            \n",
    "            rows = table.find_all(\"tr\")\n",
    "            table_data = []\n",
    "            for row in rows:\n",
    "                row_data = []\n",
    "                cells = row.find_all(['td', 'th'])\n",
    "                for cell in cells:\n",
    "                    cell_data = cell.get_text().strip()\n",
    "                    row_data.append(cell_data)\n",
    "                table_data.append(row_data)\n",
    "            headers = table_data.pop(0)\n",
    "            df = pd.DataFrame(table_data, columns=headers)\n",
    "            df.columns.values[0] = \"Number\"\n",
    "            break\n",
    "    \n",
    "    else:\n",
    "        print(\"No table to be scrape\")\n",
    "    return df\n"
   ]
  },
  {
   "cell_type": "code",
   "execution_count": null,
   "id": "bbecb99c",
   "metadata": {},
   "outputs": [],
   "source": []
  }
 ],
 "metadata": {
  "kernelspec": {
   "display_name": "Python 3 (ipykernel)",
   "language": "python",
   "name": "python3"
  },
  "language_info": {
   "codemirror_mode": {
    "name": "ipython",
    "version": 3
   },
   "file_extension": ".py",
   "mimetype": "text/x-python",
   "name": "python",
   "nbconvert_exporter": "python",
   "pygments_lexer": "ipython3",
   "version": "3.9.7"
  }
 },
 "nbformat": 4,
 "nbformat_minor": 5
}
